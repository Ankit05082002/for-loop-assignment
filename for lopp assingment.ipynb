{
 "cells": [
  {
   "cell_type": "code",
   "execution_count": null,
   "metadata": {},
   "outputs": [],
   "source": [
    "#BASIC LEVEL"
   ]
  },
  {
   "cell_type": "code",
   "execution_count": 1,
   "metadata": {},
   "outputs": [],
   "source": [
    "#Q1.\n",
    "x=range(11) "
   ]
  },
  {
   "cell_type": "code",
   "execution_count": 1,
   "metadata": {},
   "outputs": [
    {
     "name": "stdout",
     "output_type": "stream",
     "text": [
      "0\n",
      "1\n",
      "2\n",
      "3\n",
      "4\n",
      "5\n",
      "6\n",
      "7\n",
      "8\n",
      "9\n"
     ]
    }
   ],
   "source": [
    "for i in range(0,10):\n",
    "    print(i)"
   ]
  },
  {
   "cell_type": "code",
   "execution_count": 5,
   "metadata": {},
   "outputs": [
    {
     "name": "stdout",
     "output_type": "stream",
     "text": [
      "the sum of al no. is : 105\n"
     ]
    }
   ],
   "source": [
    "#Q2.\n",
    "b1=[10,12,14,15,17,18,19]\n",
    "total_sum=0\n",
    "for i in b1:\n",
    "    total_sum += i\n",
    "print(f\"the sum of al no. is : {total_sum}\")\n"
   ]
  },
  {
   "cell_type": "code",
   "execution_count": 18,
   "metadata": {},
   "outputs": [
    {
     "name": "stdout",
     "output_type": "stream",
     "text": [
      "y r t n u o c   y m   e v o l   i "
     ]
    }
   ],
   "source": [
    "#Q3.\n",
    "r='i love my country'\n",
    "for i in r[::-1]:\n",
    "    print(i,end=' ')"
   ]
  },
  {
   "cell_type": "code",
   "execution_count": 5,
   "metadata": {},
   "outputs": [
    {
     "name": "stdout",
     "output_type": "stream",
     "text": [
      "The factoril of enter no.5 is : 120\n"
     ]
    }
   ],
   "source": [
    "#Q4\n",
    "number=int(input())\n",
    "factoriL=1\n",
    "for i in range(1,number+1):\n",
    "    factoriL*=i\n",
    "print(f\"The factoril of enter no.{number} is : {factoriL}\")"
   ]
  },
  {
   "cell_type": "code",
   "execution_count": 33,
   "metadata": {},
   "outputs": [
    {
     "name": "stdout",
     "output_type": "stream",
     "text": [
      "1 2 3 4 5 \n",
      "2 4 6 8 10 \n",
      "3 6 9 12 15 \n",
      "4 8 12 16 20 \n",
      "5 10 15 20 25 \n"
     ]
    }
   ],
   "source": [
    "#Q5\n",
    "for i in range(1,6):\n",
    "    for j in range(1,6):\n",
    "        print(i*j,end=' ')\n",
    "    print()"
   ]
  },
  {
   "cell_type": "code",
   "execution_count": 24,
   "metadata": {},
   "outputs": [
    {
     "name": "stdout",
     "output_type": "stream",
     "text": [
      "Number of even numbers: 5\n",
      "Number of odd numbers: 5\n"
     ]
    }
   ],
   "source": [
    "#Q6.\n",
    "numbers = [1, 2, 3, 4, 5, 6, 7, 8, 9, 10]\n",
    "even_count = 0\n",
    "odd_count = 0\n",
    "for num in numbers:\n",
    "    if num % 2 == 0:\n",
    "        even_count+=1\n",
    "    else:\n",
    "        odd_count += 1\n",
    "print(\"Number of even numbers:\", even_count)\n",
    "print(\"Number of odd numbers:\", odd_count)\n"
   ]
  },
  {
   "cell_type": "code",
   "execution_count": 29,
   "metadata": {},
   "outputs": [
    {
     "name": "stdout",
     "output_type": "stream",
     "text": [
      "The square of 1: is 1\n",
      "The square of 2: is 4\n",
      "The square of 3: is 9\n",
      "The square of 4: is 16\n",
      "The square of 5: is 25\n"
     ]
    }
   ],
   "source": [
    "#Q7.\n",
    "for num in range(1,6):\n",
    "    square=num*num\n",
    "    print(f'The square of {num}: is {square}' )"
   ]
  },
  {
   "cell_type": "code",
   "execution_count": 5,
   "metadata": {},
   "outputs": [
    {
     "name": "stdout",
     "output_type": "stream",
     "text": [
      "Length of the string: 16\n"
     ]
    }
   ],
   "source": [
    "#Q8.\n",
    "def string_length(s):\n",
    "    count = 0\n",
    "    for char in s:\n",
    "        count += 1\n",
    "    return count\n",
    "\n",
    "# Input a string\n",
    "input_string = input(\"Enter a string: \")\n",
    "\n",
    "# Calculate and print the length of the string\n",
    "length = string_length(input_string)\n",
    "print(f\"Length of the string: {length}\")"
   ]
  },
  {
   "cell_type": "code",
   "execution_count": 7,
   "metadata": {},
   "outputs": [
    {
     "name": "stdout",
     "output_type": "stream",
     "text": [
      "The average length of number is 20.0\n"
     ]
    }
   ],
   "source": [
    "#Q9.\n",
    "numbr=[10,15,20,25,30]\n",
    "all=sum(numbr)\n",
    "average= all/len(numbr)\n",
    "print(f\"The average length of number is {average}\")"
   ]
  },
  {
   "cell_type": "code",
   "execution_count": 4,
   "metadata": {},
   "outputs": [
    {
     "name": "stdout",
     "output_type": "stream",
     "text": [
      "fibonacci_sequence\n",
      "0\n",
      "1\n"
     ]
    }
   ],
   "source": [
    "#Q10.\n",
    "fibo_num=int(input())\n",
    "fibo=[0,1]\n",
    "for i in range(2,fibo_num):\n",
    "    next_term=fibo[i-1]+fibo[i+1]\n",
    "    fibo.append(next_term)\n",
    "print(\"fibonacci_sequence\")\n",
    "for n in fibo:\n",
    "    print(f\"{n}\")"
   ]
  },
  {
   "cell_type": "code",
   "execution_count": 21,
   "metadata": {},
   "outputs": [
    {
     "name": "stdout",
     "output_type": "stream",
     "text": [
      "The list contains duplicates.\n"
     ]
    }
   ],
   "source": [
    "#Q11.\n",
    "my=['ankit','ankit',1,2,2,4,5]\n",
    "if len(my) !=len(set(my)):\n",
    "    print(\"The list contains duplicates.\")\n",
    "else:\n",
    "    print(\"The list does not contain duplicates.\")"
   ]
  },
  {
   "cell_type": "code",
   "execution_count": 17,
   "metadata": {},
   "outputs": [
    {
     "name": "stdout",
     "output_type": "stream",
     "text": [
      "here is the list of all prime no. from start to end \n",
      "2\n",
      "3\n",
      "5\n",
      "7\n"
     ]
    }
   ],
   "source": [
    "#Q12.\n",
    "start=int(input())\n",
    "end=int(input())\n",
    "if start > end :\n",
    "    print(\"invalid number\")\n",
    "else:\n",
    "    print(\"here is the list of all prime no. from start to end \")\n",
    "    for num in range(start,end,+1):\n",
    "        if num >1:\n",
    "            is_prime=True\n",
    "            for i in range(2,int(num**0.5)+1):\n",
    "                if num % i == 0:\n",
    "                    is_prime=False\n",
    "            if is_prime:\n",
    "                print(num)"
   ]
  },
  {
   "cell_type": "code",
   "execution_count": 21,
   "metadata": {},
   "outputs": [
    {
     "name": "stdout",
     "output_type": "stream",
     "text": [
      "The vowel count is 5 and its ['a', 'e', 'i', 'a', 'i']\n"
     ]
    }
   ],
   "source": [
    "#Q13.\n",
    "a2='my name is ankit'\n",
    "vowel_count=0\n",
    "vowel_found=[]\n",
    "vowel=\"a,e,i,o,u\"\n",
    "for char in a2:\n",
    "    if char in vowel:\n",
    "        vowel_count+=1\n",
    "        vowel_found.append(char)\n",
    "print(f\"The vowel count is {vowel_count} and its {vowel_found}\")\n"
   ]
  },
  {
   "cell_type": "code",
   "execution_count": 10,
   "metadata": {},
   "outputs": [
    {
     "name": "stdout",
     "output_type": "stream",
     "text": [
      "The maximum element in the 2D list is: 23\n"
     ]
    }
   ],
   "source": [
    "#Q14.\n",
    "# Sample 2D list\n",
    "two_d_list = [\n",
    "    [5, 12, 8],\n",
    "    [23, 14, 6],\n",
    "    [7, 18, 9]\n",
    "]\n",
    "\n",
    "# Initialize max_element to the first element of the 2D list\n",
    "max_element = two_d_list[0][0]\n",
    "\n",
    "# Iterate through each sublist and element to find the maximum\n",
    "for sublist in two_d_list:\n",
    "    for element in sublist:\n",
    "        if element > max_element:\n",
    "            max_element = element\n",
    "\n",
    "# Print the maximum element found\n",
    "print(f\"The maximum element in the 2D list is: {max_element}\")\n"
   ]
  },
  {
   "cell_type": "code",
   "execution_count": 7,
   "metadata": {},
   "outputs": [
    {
     "name": "stdout",
     "output_type": "stream",
     "text": [
      "old list : [1, 2, 3, 4, 5, 6, 7, 8, 9] \n",
      "new list :[1, 2, 3, 4, 6, 7, 8, 9]\n"
     ]
    }
   ],
   "source": [
    "#Q15.\n",
    "original_list=[1,2,3,4,5,6,7,8,9]\n",
    "element_to_remove=int(input())\n",
    "new_list= [i for i in original_list if i != element_to_remove]\n",
    "print(f\"old list : {original_list} \")\n",
    "print(f\"new list :{new_list}\")\n",
    "\n"
   ]
  },
  {
   "cell_type": "code",
   "execution_count": 30,
   "metadata": {},
   "outputs": [
    {
     "name": "stdout",
     "output_type": "stream",
     "text": [
      "1 2 3 4 \n",
      "2 4 6 8 \n",
      "3 6 9 12 \n",
      "4 8 12 16 \n",
      "5 10 15 20 \n"
     ]
    }
   ],
   "source": [
    "#Q16\n",
    "for num in range(1,6):\n",
    "    for i in range(1,5):\n",
    "        print(num*i,end=' ')\n",
    "    print()"
   ]
  },
  {
   "cell_type": "code",
   "execution_count": 12,
   "metadata": {},
   "outputs": [
    {
     "name": "stdout",
     "output_type": "stream",
     "text": [
      "fahrenheit Temperature : [32, 55, 60, 78, 99]\n",
      "celsius temperatures : [0, 12, 15, 25, 37]\n"
     ]
    }
   ],
   "source": [
    "#Q17.\n",
    "fahrenheit_temperatures=[32,55,60,78,99]\n",
    "celsius_temperatures= [(o-32)*5//9 for o in fahrenheit_temperatures]\n",
    "print(f\"fahrenheit Temperature : {fahrenheit_temperatures}\")\n",
    "print(f\"celsius temperatures : {celsius_temperatures}\")"
   ]
  },
  {
   "cell_type": "code",
   "execution_count": 13,
   "metadata": {},
   "outputs": [
    {
     "name": "stdout",
     "output_type": "stream",
     "text": [
      "the common number in the list is : [2, 2, 3, 4, 4]\n"
     ]
    }
   ],
   "source": [
    "#Q18.\n",
    "list1=[1,1,2,3,4,4,]\n",
    "list2=[2,2,3,4,5,6]\n",
    "common_element=[]\n",
    "for num1 in list1:\n",
    "    for num2 in list2:\n",
    "        if num1==num2:\n",
    "            common_element.append(num1)\n",
    "print(f\"the common number in the list is : {common_element}\")"
   ]
  },
  {
   "cell_type": "code",
   "execution_count": 17,
   "metadata": {},
   "outputs": [
    {
     "name": "stdout",
     "output_type": "stream",
     "text": [
      "* \n",
      "* * \n",
      "* * * \n",
      "* * * * \n",
      "* * * * * \n"
     ]
    }
   ],
   "source": [
    "#Q19.\n",
    "for i in range(5):\n",
    "    for m in range(i+1):\n",
    "         print('*',end=' ')\n",
    "    print()"
   ]
  },
  {
   "cell_type": "code",
   "execution_count": 3,
   "metadata": {},
   "outputs": [
    {
     "name": "stdout",
     "output_type": "stream",
     "text": [
      "The gcd of 10 and 5 is 5\n"
     ]
    }
   ],
   "source": [
    "#Q20.\n",
    "num1= int(input())\n",
    "num2=int(input())\n",
    "if num1<num2:\n",
    "    smallest_num = num1\n",
    "else:\n",
    "    smallest_num = num2\n",
    "gcd=1\n",
    "for i in range(1,smallest_num+1):\n",
    "    if num1 % i == 0 and num1 % i ==0:\n",
    "        gcd= i \n",
    "print(f\"The gcd of {num1} and {num2} is {gcd}\")"
   ]
  },
  {
   "cell_type": "code",
   "execution_count": 5,
   "metadata": {},
   "outputs": [
    {
     "name": "stdout",
     "output_type": "stream",
     "text": [
      "original list :[123, 45, 678, 9]\n",
      "sum of no. : [6, 9, 21, 9]\n"
     ]
    }
   ],
   "source": [
    "#Q21.\n",
    "# Input a list of numbers\n",
    "numbers = [123, 45, 678, 9]\n",
    "sum_of_digits=[sum(int(digits) for digits in str(i)) for i in numbers]\n",
    "print(f\"original list :{numbers}\")\n",
    "print(f\"sum of no. : {sum_of_digits}\")"
   ]
  },
  {
   "cell_type": "code",
   "execution_count": 11,
   "metadata": {},
   "outputs": [
    {
     "name": "stdout",
     "output_type": "stream",
     "text": [
      "[2, 4, 5, 10]\n"
     ]
    }
   ],
   "source": [
    "#Q22.\n",
    "num=int(input())\n",
    "prime=[i for i in range(2,int(num**0.5)+1) if num % i ==0]\n",
    "print(prime)\n"
   ]
  },
  {
   "cell_type": "code",
   "execution_count": 1,
   "metadata": {},
   "outputs": [
    {
     "name": "stdout",
     "output_type": "stream",
     "text": [
      "the original list is : [1, 1, 1, 2, 3, 4, 4]\n",
      "The new list is : [2, 3]\n"
     ]
    }
   ],
   "source": [
    "#Q23.\n",
    "number12=[1,1,1,2,3,4,4]\n",
    "list4=[i for i in number12 if number12.count(i)==1]\n",
    "print(f'the original list is : {number12}')\n",
    "print(f'The new list is : {list4}')\n"
   ]
  },
  {
   "cell_type": "code",
   "execution_count": 17,
   "metadata": {},
   "outputs": [
    {
     "name": "stdout",
     "output_type": "stream",
     "text": [
      "The string is a palindrome\n"
     ]
    }
   ],
   "source": [
    "#Q24.\n",
    "a1=input()\n",
    "print(f\"The string is {'a palindrome' if a1==a1[::-1] else 'not a paindrome '}\")\n",
    "\n",
    "\n"
   ]
  },
  {
   "cell_type": "code",
   "execution_count": 25,
   "metadata": {},
   "outputs": [
    {
     "name": "stdout",
     "output_type": "stream",
     "text": [
      "here is flatten list : [1, 2, 1, 3, 5, 4, 5]\n"
     ]
    }
   ],
   "source": [
    "#Q25.\n",
    "number99=[1,2,[1,3],5,[4,5]]\n",
    "numqq=[item for sublist in number99 for item in (sublist if isinstance(sublist,list) else [sublist])] \n",
    "print(f\"here is flatten list : {numqq}\")\n"
   ]
  },
  {
   "cell_type": "code",
   "execution_count": 1,
   "metadata": {},
   "outputs": [
    {
     "name": "stdout",
     "output_type": "stream",
     "text": [
      "sum if even number is 30\n",
      "sum of odd number is 25\n"
     ]
    }
   ],
   "source": [
    "#Q26.\n",
    "a1=[1,2,3,4,5,6,7,8,9,10]\n",
    "even_number=[i for i in a1 if i %2==0 ]\n",
    "odd_number= [i for i in a1 if i % 2!=0]\n",
    "sumn = sum(even_number)\n",
    "sum_a = sum(odd_number)\n",
    "print('sum if even number is',sumn)\n",
    "print('sum of odd number is',sum_a)\n",
    "\n",
    "    "
   ]
  },
  {
   "cell_type": "code",
   "execution_count": 13,
   "metadata": {},
   "outputs": [
    {
     "name": "stdout",
     "output_type": "stream",
     "text": [
      "[1, 9, 25, 49, 81]\n"
     ]
    }
   ],
   "source": [
    "#Q27.\n",
    "a22=list(range(1,11))\n",
    "list99=[i*i for i in a22 if i %2!=0]\n",
    "print(list99)\n",
    "\n"
   ]
  },
  {
   "cell_type": "code",
   "execution_count": 18,
   "metadata": {},
   "outputs": [
    {
     "name": "stdout",
     "output_type": "stream",
     "text": [
      "{'a': 1, 'b': 2, 'c': 3}\n"
     ]
    }
   ],
   "source": [
    "#Q28.\n",
    "keys = ['a', 'b', 'c']\n",
    "values = [1, 2, 3]\n",
    "a29={keys[i]: values[i] for i in range(len(keys))}\n",
    "print(a29)"
   ]
  },
  {
   "cell_type": "code",
   "execution_count": 2,
   "metadata": {},
   "outputs": [
    {
     "name": "stdout",
     "output_type": "stream",
     "text": [
      "['e', 'o', 'o', 'i', 'a', 'i']\n"
     ]
    }
   ],
   "source": [
    "#Q29.\n",
    "d22=\"hello world i'm ankit\"\n",
    "d24=[i for i in d22 if i in 'aeiou']\n",
    "print(d24)"
   ]
  },
  {
   "cell_type": "code",
   "execution_count": 4,
   "metadata": {},
   "outputs": [
    {
     "name": "stdout",
     "output_type": "stream",
     "text": [
      "['1', '2', '1', '2', '1', '2', '3', '4']\n"
     ]
    }
   ],
   "source": [
    "#Q30.\n",
    "char1=[\"ankit12\",\"kumar12\",\"1234\"]\n",
    "char2 = [char for i in char1 for char in i if char.isnumeric()]\n",
    "print(char2)"
   ]
  },
  {
   "cell_type": "code",
   "execution_count": null,
   "metadata": {},
   "outputs": [],
   "source": [
    "#challengeing level"
   ]
  },
  {
   "cell_type": "code",
   "execution_count": null,
   "metadata": {},
   "outputs": [],
   "source": [
    "#Q31."
   ]
  },
  {
   "cell_type": "code",
   "execution_count": 14,
   "metadata": {},
   "outputs": [
    {
     "name": "stdout",
     "output_type": "stream",
     "text": [
      "[(3, 4, 5), (6, 8, 10), (5, 12, 13), (9, 12, 15), (8, 15, 17), (12, 16, 20)]\n"
     ]
    }
   ],
   "source": [
    "#Q32.\n",
    "limit = 20\n",
    "pythagorean_triplets = [(a, b, c) for c in range(1, limit + 1) for b in range(1, c) for a in range(1, b) if a**2 + b**2 == c**2]\n",
    "print(pythagorean_triplets)\n"
   ]
  },
  {
   "cell_type": "code",
   "execution_count": 4,
   "metadata": {},
   "outputs": [
    {
     "name": "stdout",
     "output_type": "stream",
     "text": [
      "[(1, 'a'), (1, 'b'), (1, 'c'), (2, 'a'), (2, 'b'), (2, 'c'), (3, 'a'), (3, 'b'), (3, 'c')]\n"
     ]
    }
   ],
   "source": [
    "#Q33.\n",
    "list1 = [1, 2, 3]\n",
    "list2 = ['a', 'b', 'c']\n",
    "\n",
    "# Use list comprehension to generate combinations\n",
    "combinations = [(x, y) for x in list1 for y in list2]\n",
    "\n",
    "print(combinations)"
   ]
  },
  {
   "cell_type": "code",
   "execution_count": 5,
   "metadata": {},
   "outputs": [
    {
     "name": "stdout",
     "output_type": "stream",
     "text": [
      "original list of number :[1, 2, 3, 4, 5, 6, 7, 8]\n",
      "mean : 4.5\n",
      "median : 4.5\n",
      "mode : 1\n"
     ]
    }
   ],
   "source": [
    "#Q34.\n",
    "import statistics\n",
    "number=[1,2,3,4,5,6,7,8]\n",
    "mean = statistics.mean(number)\n",
    "median=statistics.median(number)\n",
    "mode=statistics.mode(number)\n",
    "print(f\"original list of number :{number}\")\n",
    "print(f\"mean : {mean}\")\n",
    "print(f\"median : {median}\")\n",
    "print(f\"mode : {mode}\")\n"
   ]
  },
  {
   "cell_type": "code",
   "execution_count": 1,
   "metadata": {},
   "outputs": [
    {
     "name": "stdout",
     "output_type": "stream",
     "text": [
      "[1, 2, 6, 6, 3]\n"
     ]
    }
   ],
   "source": [
    "#Q36.\n",
    "import math \n",
    "aww=[sum(int(digit) for  digit in str(math.factorial(n))) for n in range(1,6)]\n",
    "print(f\"{aww}\")"
   ]
  },
  {
   "cell_type": "code",
   "execution_count": 6,
   "metadata": {},
   "outputs": [
    {
     "name": "stdout",
     "output_type": "stream",
     "text": [
      "all thr words are :india america\n",
      "longest word : ['america']\n"
     ]
    }
   ],
   "source": [
    "#Q37.\n",
    "swnt=input()\n",
    "yy=[max((word for word in swnt.split() ),key=len)]\n",
    "print(f\"all thr words are :{swnt}\")\n",
    "print(f\"longest word : {yy}\")"
   ]
  },
  {
   "cell_type": "code",
   "execution_count": 9,
   "metadata": {},
   "outputs": [
    {
     "name": "stdout",
     "output_type": "stream",
     "text": [
      "[1, 2, 3, 4, 5, 6, 7, 8, 9, 1, 2, 3, 4, 5, 6, 7, 8, 9, 10, 2, 3, 4, 5, 6, 7, 8, 9, 10, 11, 3, 4, 5, 6, 7, 8, 9, 10, 11, 12, 4, 5, 6, 7, 8, 9, 10, 11, 12, 13, 5, 6, 7, 8, 9, 10, 11, 12, 13, 14, 6, 7, 8, 9, 10, 11, 12, 13, 14, 15, 7, 8, 9, 10, 11, 12, 13, 14, 15, 16, 8, 9, 10, 11, 12, 13, 14, 15, 16, 17, 9, 10, 11, 12, 13, 14, 15, 16, 17, 18, 1, 2, 3, 4, 5, 6, 7, 8, 9, 10, 2, 3, 4, 5, 6, 7, 8, 9, 10, 11, 3, 4, 5, 6, 7, 8, 9, 10, 11, 12, 4, 5, 6, 7, 8, 9, 10, 11, 12, 13, 5, 6, 7, 8, 9, 10, 11, 12, 13, 14, 6, 7, 8, 9, 10, 11, 12, 13, 14, 15, 7, 8, 9, 10, 11, 12, 13, 14, 15, 16, 8, 9, 10, 11, 12, 13, 14, 15, 16, 17, 9, 10, 11, 12, 13, 14, 15, 16, 17, 18, 10, 11, 12, 13, 14, 15, 16, 17, 18, 19, 2, 3, 4, 5, 6, 7, 8, 9, 10, 11, 3, 4, 5, 6, 7, 8, 9, 10, 11, 12, 4, 5, 6, 7, 8, 9, 10, 11, 12, 13, 5, 6, 7, 8, 9, 10, 11, 12, 13, 14, 6, 7, 8, 9, 10, 11, 12, 13, 14, 15, 7, 8, 9, 10, 11, 12, 13, 14, 15, 16, 8, 9, 10, 11, 12, 13, 14, 15, 16, 17, 9, 10, 11, 12, 13, 14, 15, 16, 17, 18, 10, 11, 12, 13, 14, 15, 16, 17, 18, 19, 11, 12, 13, 14, 15, 16, 17, 18, 19, 20, 3, 4, 5, 6, 7, 8, 9, 10, 11, 12, 4, 5, 6, 7, 8, 9, 10, 11, 12, 13, 5, 6, 7, 8, 9, 10, 11, 12, 13, 14, 6, 7, 8, 9, 10, 11, 12, 13, 14, 15, 7, 8, 9, 10, 11, 12, 13, 14, 15, 16, 8, 9, 10, 11, 12, 13, 14, 15, 16, 17, 9, 10, 11, 12, 13, 14, 15, 16, 17, 18, 10, 11, 12, 13, 14, 15, 16, 17, 18, 19, 11, 12, 13, 14, 15, 16, 17, 18, 19, 20, 12, 13, 14, 15, 16, 17, 18, 19, 20, 21, 4, 5, 6, 7, 8, 9, 10, 11, 12, 13, 5, 6, 7, 8, 9, 10, 11, 12, 13, 14, 6, 7, 8, 9, 10, 11, 12, 13, 14, 15, 7, 8, 9, 10, 11, 12, 13, 14, 15, 16, 8, 9, 10, 11, 12, 13, 14, 15, 16, 17, 9, 10, 11, 12, 13, 14, 15, 16, 17, 18, 10, 11, 12, 13, 14, 15, 16, 17, 18, 19, 11, 12, 13, 14, 15, 16, 17, 18, 19, 20, 12, 13, 14, 15, 16, 17, 18, 19, 20, 21, 13, 14, 15, 16, 17, 18, 19, 20, 21, 22, 5, 6, 7, 8, 9, 10, 11, 12, 13, 14, 6, 7, 8, 9, 10, 11, 12, 13, 14, 15, 7, 8, 9, 10, 11, 12, 13, 14, 15, 16, 8, 9, 10, 11, 12, 13, 14, 15, 16, 17, 9, 10, 11, 12, 13, 14, 15, 16, 17, 18, 10, 11, 12, 13, 14, 15, 16, 17, 18, 19, 11, 12, 13, 14, 15, 16, 17, 18, 19, 20, 12, 13, 14, 15, 16, 17, 18, 19, 20, 21, 13, 14, 15, 16, 17, 18, 19, 20, 21, 22, 14, 15, 16, 17, 18, 19, 20, 21, 22, 23, 6, 7, 8, 9, 10, 11, 12, 13, 14, 15, 7, 8, 9, 10, 11, 12, 13, 14, 15, 16, 8, 9, 10, 11, 12, 13, 14, 15, 16, 17, 9, 10, 11, 12, 13, 14, 15, 16, 17, 18, 10, 11, 12, 13, 14, 15, 16, 17, 18, 19, 11, 12, 13, 14, 15, 16, 17, 18, 19, 20, 12, 13, 14, 15, 16, 17, 18, 19, 20, 21, 13, 14, 15, 16, 17, 18, 19, 20, 21, 22, 14, 15, 16, 17, 18, 19, 20, 21, 22, 23, 15, 16, 17, 18, 19, 20, 21, 22, 23, 24, 7, 8, 9, 10, 11, 12, 13, 14, 15, 16, 8, 9, 10, 11, 12, 13, 14, 15, 16, 17, 9, 10, 11, 12, 13, 14, 15, 16, 17, 18, 10, 11, 12, 13, 14, 15, 16, 17, 18, 19, 11, 12, 13, 14, 15, 16, 17, 18, 19, 20, 12, 13, 14, 15, 16, 17, 18, 19, 20, 21, 13, 14, 15, 16, 17, 18, 19, 20, 21, 22, 14, 15, 16, 17, 18, 19, 20, 21, 22, 23, 15, 16, 17, 18, 19, 20, 21, 22, 23, 24, 16, 17, 18, 19, 20, 21, 22, 23, 24, 25, 8, 9, 10, 11, 12, 13, 14, 15, 16, 17, 9, 10, 11, 12, 13, 14, 15, 16, 17, 18, 10, 11, 12, 13, 14, 15, 16, 17, 18, 19, 11, 12, 13, 14, 15, 16, 17, 18, 19, 20, 12, 13, 14, 15, 16, 17, 18, 19, 20, 21, 13, 14, 15, 16, 17, 18, 19, 20, 21, 22, 14, 15, 16, 17, 18, 19, 20, 21, 22, 23, 15, 16, 17, 18, 19, 20, 21, 22, 23, 24, 16, 17, 18, 19, 20, 21, 22, 23, 24, 25, 17, 18, 19, 20, 21, 22, 23, 24, 25, 26, 9, 10, 11, 12, 13, 14, 15, 16, 17, 18, 10, 11, 12, 13, 14, 15, 16, 17, 18, 19, 11, 12, 13, 14, 15, 16, 17, 18, 19, 20, 12, 13, 14, 15, 16, 17, 18, 19, 20, 21, 13, 14, 15, 16, 17, 18, 19, 20, 21, 22, 14, 15, 16, 17, 18, 19, 20, 21, 22, 23, 15, 16, 17, 18, 19, 20, 21, 22, 23, 24, 16, 17, 18, 19, 20, 21, 22, 23, 24, 25, 17, 18, 19, 20, 21, 22, 23, 24, 25, 26, 18, 19, 20, 21, 22, 23, 24, 25, 26, 27, 1]\n"
     ]
    }
   ],
   "source": [
    "sw=[sum(int(digit) for digit in str(n)) for n in range(1,1001)]\n",
    "print(sw)\n"
   ]
  }
 ],
 "metadata": {
  "kernelspec": {
   "display_name": "Python 3",
   "language": "python",
   "name": "python3"
  },
  "language_info": {
   "codemirror_mode": {
    "name": "ipython",
    "version": 3
   },
   "file_extension": ".py",
   "mimetype": "text/x-python",
   "name": "python",
   "nbconvert_exporter": "python",
   "pygments_lexer": "ipython3",
   "version": "3.11.6"
  },
  "orig_nbformat": 4
 },
 "nbformat": 4,
 "nbformat_minor": 2
}
